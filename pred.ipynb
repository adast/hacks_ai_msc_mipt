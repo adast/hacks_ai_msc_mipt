{
 "cells": [
  {
   "cell_type": "code",
   "execution_count": 1,
   "metadata": {},
   "outputs": [],
   "source": [
    "# Pytorch\n",
    "import torch\n",
    "from torch import nn\n",
    "from torch.utils.data import Dataset, DataLoader\n",
    "from torchvision import transforms\n",
    "from torchvision.models import resnet50\n",
    "\n",
    "# Others\n",
    "import glob\n",
    "import cv2\n",
    "import numpy as np\n",
    "from tqdm.notebook import tqdm\n",
    "from PIL import Image\n",
    "\n",
    "device = \"cuda\" if torch.cuda.is_available() else \"cpu\""
   ]
  },
  {
   "cell_type": "code",
   "execution_count": 2,
   "metadata": {},
   "outputs": [],
   "source": [
    "model = resnet50()\n",
    "model.fc = nn.Linear(2048, 4)\n",
    "\n",
    "checkpoint = torch.load('epoch-160_loss_0.00020.pt', map_location='cpu')\n",
    "model.load_state_dict(checkpoint['model_state_dict'])\n",
    "\n",
    "model = model.to(device)"
   ]
  },
  {
   "cell_type": "code",
   "execution_count": 3,
   "metadata": {},
   "outputs": [],
   "source": [
    "class SATDataset(Dataset):\n",
    "    def __init__(self, paths):\n",
    "        self.paths = paths\n",
    "        self.to_tensor = transforms.ToTensor()\n",
    "        self.normalize = transforms.Normalize(mean=[0.485, 0.456, 0.406], std=[0.229, 0.224, 0.225])\n",
    "\n",
    "    def __len__(self):\n",
    "        return len(self.paths)\n",
    "\n",
    "    def __getitem__(self, index: int):\n",
    "        img_path = self.paths[index]\n",
    "        roi = cv2.imread(img_path)\n",
    "        roi = cv2.cvtColor(roi, cv2.COLOR_BGR2RGB)\n",
    "        roi = self.to_tensor(roi)\n",
    "        roi = self.normalize(roi)\n",
    "        return roi\n",
    "\n",
    "img_paths = sorted(glob.glob('test_dataset_test/*.png'), key=lambda x: int(x.split('/')[-1].split('.')[0]))\n",
    "\n",
    "BATCH_SIZE = 2\n",
    "NUM_WORKERS = 4\n",
    "dataset = SATDataset(img_paths)\n",
    "dataloader = DataLoader(dataset, batch_size=BATCH_SIZE, num_workers=NUM_WORKERS, shuffle=False)"
   ]
  },
  {
   "cell_type": "code",
   "execution_count": 4,
   "metadata": {},
   "outputs": [
    {
     "data": {
      "application/vnd.jupyter.widget-view+json": {
       "model_id": "4212f76bc8134bc8b7cfeb786046eb77",
       "version_major": 2,
       "version_minor": 0
      },
      "text/plain": [
       "  0%|          | 0/200 [00:00<?, ?it/s]"
      ]
     },
     "metadata": {},
     "output_type": "display_data"
    }
   ],
   "source": [
    "centers = []\n",
    "angles = []\n",
    "\n",
    "model.eval()\n",
    "with torch.no_grad():\n",
    "    for batch in tqdm(dataloader):\n",
    "        batch = batch.to(device)\n",
    "        result = model.forward(batch)\n",
    "        result = result.detach().cpu().numpy()\n",
    "        centers.append(result[:, :2] * 10496)\n",
    "        angles.append(np.round(np.rad2deg(np.arctan2(result[:, 2], result[:, 3])) % 360).astype(int))\n",
    "\n",
    "centers = np.concatenate(centers)\n",
    "angles = np.concatenate(angles)"
   ]
  },
  {
   "cell_type": "code",
   "execution_count": 32,
   "metadata": {},
   "outputs": [],
   "source": [
    "def rotate(p, origin=(0, 0), degrees=0):\n",
    "    angle = np.deg2rad(degrees)\n",
    "    R = np.array([[np.cos(angle), -np.sin(angle)],\n",
    "                  [np.sin(angle),  np.cos(angle)]])\n",
    "    o = np.atleast_2d(origin)\n",
    "    p = np.atleast_2d(p)\n",
    "    return np.squeeze((R @ (p.T-o.T) + o.T).T)\n",
    "\n",
    "results = []\n",
    "HALF_SIZE = 512\n",
    "for center, angle in zip(centers, angles):\n",
    "    bbox = np.array([\n",
    "        center + np.array([-HALF_SIZE, -HALF_SIZE]),\n",
    "        center + np.array([HALF_SIZE, -HALF_SIZE]),\n",
    "        center + np.array([-HALF_SIZE, HALF_SIZE]),\n",
    "        center + np.array([HALF_SIZE, HALF_SIZE]),\n",
    "    ])\n",
    "    bbox = rotate(bbox, center, angle)\n",
    "    bbox = np.round(bbox).astype(int)\n",
    "    results.append({\n",
    "        'left_top': bbox[0].tolist(),\n",
    "        'right_top': bbox[1].tolist(),\n",
    "        'left_bottom': bbox[2].tolist(),\n",
    "        'right_bottom': bbox[3].tolist(),\n",
    "        'angle': angle.item()\n",
    "    })"
   ]
  },
  {
   "cell_type": "code",
   "execution_count": 33,
   "metadata": {},
   "outputs": [],
   "source": [
    "import json\n",
    "for pred, path in zip(results, img_paths):\n",
    "    name = path.split('/')[-1].split('.')[0]\n",
    "    with open(f'preds/{name}.json', 'w') as f:\n",
    "        json.dump(pred, f)"
   ]
  }
 ],
 "metadata": {
  "kernelspec": {
   "display_name": "Python 3.9.0 ('torch')",
   "language": "python",
   "name": "python3"
  },
  "language_info": {
   "codemirror_mode": {
    "name": "ipython",
    "version": 3
   },
   "file_extension": ".py",
   "mimetype": "text/x-python",
   "name": "python",
   "nbconvert_exporter": "python",
   "pygments_lexer": "ipython3",
   "version": "3.10.4"
  },
  "orig_nbformat": 4,
  "vscode": {
   "interpreter": {
    "hash": "2f2d233e4f67dc23419cf812d4dcd4af970bfd38821c4e923a06162f07e02490"
   }
  }
 },
 "nbformat": 4,
 "nbformat_minor": 2
}
